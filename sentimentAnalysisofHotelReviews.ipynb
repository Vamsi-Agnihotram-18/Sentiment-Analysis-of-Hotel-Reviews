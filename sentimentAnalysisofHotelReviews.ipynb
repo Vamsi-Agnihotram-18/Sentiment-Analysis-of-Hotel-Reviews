{
  "nbformat": 4,
  "nbformat_minor": 0,
  "metadata": {
    "colab": {
      "provenance": []
    },
    "kernelspec": {
      "name": "python3",
      "display_name": "Python 3"
    },
    "language_info": {
      "name": "python"
    }
  },
  "cells": [
    {
      "cell_type": "code",
      "execution_count": 1,
      "metadata": {
        "colab": {
          "base_uri": "https://localhost:8080/"
        },
        "id": "_vK8f_0L6Jo_",
        "outputId": "38a33f6b-ae03-4bb1-e0ec-db66da4605b3"
      },
      "outputs": [
        {
          "output_type": "stream",
          "name": "stderr",
          "text": [
            "[nltk_data] Downloading package punkt to /root/nltk_data...\n",
            "[nltk_data]   Unzipping tokenizers/punkt.zip.\n",
            "[nltk_data] Downloading package stopwords to /root/nltk_data...\n",
            "[nltk_data]   Unzipping corpora/stopwords.zip.\n",
            "[nltk_data] Downloading package wordnet to /root/nltk_data...\n"
          ]
        },
        {
          "output_type": "execute_result",
          "data": {
            "text/plain": [
              "True"
            ]
          },
          "metadata": {},
          "execution_count": 1
        }
      ],
      "source": [
        "import nltk\n",
        "import pandas as pd\n",
        "import re\n",
        "from nltk.corpus import stopwords\n",
        "from nltk.stem import WordNetLemmatizer\n",
        "from nltk.tokenize import word_tokenize\n",
        "from imblearn.over_sampling import SMOTE\n",
        "from textblob import TextBlob\n",
        "import matplotlib.pyplot as plt\n",
        "from sklearn.linear_model import LogisticRegression\n",
        "from sklearn.model_selection import train_test_split\n",
        "from sklearn.naive_bayes import MultinomialNB\n",
        "from sklearn.feature_extraction.text import CountVectorizer\n",
        "from sklearn.metrics import classification_report, accuracy_score\n",
        "\n",
        "nltk.download('punkt')\n",
        "nltk.download('stopwords')\n",
        "nltk.download('wordnet')"
      ]
    },
    {
      "cell_type": "code",
      "source": [
        "df = pd.read_csv(\"https://raw.githubusercontent.com/shashank2325/CMPE-255-project/main/hotelReviews.csv\")\n",
        "df = df.drop(columns=['Unnamed: 0'])"
      ],
      "metadata": {
        "id": "1FW3LeIW6OLp"
      },
      "execution_count": 2,
      "outputs": []
    },
    {
      "cell_type": "code",
      "source": [
        "df['combined_reviews'] = df['reviews.title'].fillna('') + ' ' + df['reviews.text'].fillna('')\n",
        "df.rename(columns={'combined_reviews': 'review'}, inplace=True)"
      ],
      "metadata": {
        "id": "5UJLh2Jp6WuP"
      },
      "execution_count": 3,
      "outputs": []
    },
    {
      "cell_type": "markdown",
      "source": [
        "#Function to clean the text for the review"
      ],
      "metadata": {
        "id": "_6SvVHS_9LkJ"
      }
    },
    {
      "cell_type": "code",
      "source": [
        "def clean_text(text):\n",
        "    text = text.lower()\n",
        "    text = re.sub(r'[^a-zA-Z0-9]', ' ', text)\n",
        "    text = re.sub(r'\\d+', '', text)\n",
        "    words = word_tokenize(text)\n",
        "    words = [word for word in words if word not in stopwords.words('english')]\n",
        "    lemmatizer = WordNetLemmatizer()\n",
        "    words = [lemmatizer.lemmatize(word) for word in words]\n",
        "    return ' '.join(words)\n",
        "\n",
        "df['review'] = df['review'].apply(clean_text)"
      ],
      "metadata": {
        "id": "eKyEZO1P6bmX"
      },
      "execution_count": 4,
      "outputs": []
    },
    {
      "cell_type": "markdown",
      "source": [
        "#Function to classify sentiment using TextBlob"
      ],
      "metadata": {
        "id": "kHqJOVj89eki"
      }
    },
    {
      "cell_type": "code",
      "source": [
        "def classify_sentiment(text):\n",
        "    analysis = TextBlob(text)\n",
        "    if analysis.sentiment.polarity > 0.1:\n",
        "        return 1  # Positive\n",
        "    elif analysis.sentiment.polarity < -0.1:\n",
        "        return -1  # Negative\n",
        "    else:\n",
        "        return 0  # Neutral\n",
        "\n",
        "df['sentiment'] = df['review'].apply(classify_sentiment)"
      ],
      "metadata": {
        "id": "dv22GRPY6duK"
      },
      "execution_count": 5,
      "outputs": []
    },
    {
      "cell_type": "markdown",
      "source": [
        "#Preparing the data for Modelling"
      ],
      "metadata": {
        "id": "_Yda0R4F93hs"
      }
    },
    {
      "cell_type": "code",
      "source": [
        "X = df['review']\n",
        "target = df['sentiment']\n",
        "\n",
        "X_train, X_test, y_train, y_test = train_test_split(X, target, test_size=0.2, random_state=42)\n",
        "\n",
        "# Vectorizing the text data\n",
        "vectorizer = CountVectorizer()\n",
        "X_train_counts = vectorizer.fit_transform(X_train)\n",
        "X_test_counts = vectorizer.transform(X_test)"
      ],
      "metadata": {
        "id": "hTkJ9bSs7x_0"
      },
      "execution_count": 6,
      "outputs": []
    },
    {
      "cell_type": "markdown",
      "source": [
        "#Applying Naive Bayes model"
      ],
      "metadata": {
        "id": "-g_23m8O-LhG"
      }
    },
    {
      "cell_type": "code",
      "source": [
        "model = MultinomialNB()\n",
        "\n",
        "model.fit(X_train_counts, y_train)\n",
        "\n",
        "y_pred = model.predict(X_test_counts)\n",
        "print('Accuracy:', accuracy_score(y_test, y_pred))\n",
        "print('\\nClassification Report:\\n', classification_report(y_test, y_pred))"
      ],
      "metadata": {
        "colab": {
          "base_uri": "https://localhost:8080/"
        },
        "id": "WQbI4m-a72bf",
        "outputId": "b684e2cd-1e88-4860-80da-d5c735a0847e"
      },
      "execution_count": 7,
      "outputs": [
        {
          "output_type": "stream",
          "name": "stdout",
          "text": [
            "Accuracy: 0.8685\n",
            "\n",
            "Classification Report:\n",
            "               precision    recall  f1-score   support\n",
            "\n",
            "          -1       0.76      0.07      0.13       181\n",
            "           0       0.44      0.49      0.46       429\n",
            "           1       0.93      0.96      0.94      3390\n",
            "\n",
            "    accuracy                           0.87      4000\n",
            "   macro avg       0.71      0.51      0.51      4000\n",
            "weighted avg       0.87      0.87      0.85      4000\n",
            "\n"
          ]
        }
      ]
    },
    {
      "cell_type": "markdown",
      "source": [
        "#Analyzing the distribution of polarity scores"
      ],
      "metadata": {
        "id": "uZ_bQa2C-Uwy"
      }
    },
    {
      "cell_type": "code",
      "source": [
        "polarity_scores = df['review'].apply(lambda x: TextBlob(x).sentiment.polarity)\n",
        "\n",
        "plt.figure(figsize=(10, 6))\n",
        "plt.hist(polarity_scores, bins=50, color='blue')\n",
        "plt.title('Distribution of Polarity Scores')\n",
        "plt.xlabel('Polarity Score')\n",
        "plt.ylabel('Frequency')\n",
        "plt.show()"
      ],
      "metadata": {
        "colab": {
          "base_uri": "https://localhost:8080/",
          "height": 564
        },
        "id": "NYB-6e5V78M1",
        "outputId": "d72c7698-eb80-4183-c88f-64e07e20c2e8"
      },
      "execution_count": 8,
      "outputs": [
        {
          "output_type": "display_data",
          "data": {
            "text/plain": [
              "<Figure size 1000x600 with 1 Axes>"
            ],
            "image/png": "[encoded data removed]"
          },
          "metadata": {}
        }
      ]
    },
    {
      "cell_type": "markdown",
      "source": [
        "# Reclassifying sentiment with new thresholds"
      ],
      "metadata": {
        "id": "BT9tL6a3-pXR"
      }
    },
    {
      "cell_type": "code",
      "source": [
        "def reclassify_sentiment(text):\n",
        "    analysis = TextBlob(text)\n",
        "    # New thresholds for sentiment classification\n",
        "    if analysis.sentiment.polarity > 0.05:\n",
        "        return 1  # Positive\n",
        "    elif analysis.sentiment.polarity < -0.05:\n",
        "        return -1  # Negative\n",
        "    else:\n",
        "        return 0  # Neutral\n",
        "\n",
        "df['sentiment'] = df['review'].apply(reclassify_sentiment)"
      ],
      "metadata": {
        "id": "BZzER6Yr8CVi"
      },
      "execution_count": null,
      "outputs": []
    },
    {
      "cell_type": "markdown",
      "source": [
        "# Reapplying the Naive Bayes model with the updated sentiment classification"
      ],
      "metadata": {
        "id": "elFxzKs2-8WW"
      }
    },
    {
      "cell_type": "code",
      "source": [
        "X_train, X_test, y_train, y_test = train_test_split(X, df['sentiment'], test_size=0.2, random_state=42)\n",
        "\n",
        "X_train_counts = vectorizer.fit_transform(X_train)\n",
        "X_test_counts = vectorizer.transform(X_test)\n",
        "\n",
        "model.fit(X_train_counts, y_train)\n",
        "\n",
        "y_pred = model.predict(X_test_counts)\n",
        "print('Accuracy:', accuracy_score(y_test, y_pred))\n",
        "print('\\nClassification Report:\\n', classification_report(y_test, y_pred))"
      ],
      "metadata": {
        "colab": {
          "base_uri": "https://localhost:8080/"
        },
        "id": "R7zWaNL88gAi",
        "outputId": "6c6166a9-816b-475b-96e6-5fb565a09059"
      },
      "execution_count": 10,
      "outputs": [
        {
          "output_type": "stream",
          "name": "stdout",
          "text": [
            "Accuracy: 0.90125\n",
            "\n",
            "Classification Report:\n",
            "               precision    recall  f1-score   support\n",
            "\n",
            "          -1       0.70      0.38      0.49       230\n",
            "           0       0.30      0.15      0.20       227\n",
            "           1       0.93      0.98      0.95      3543\n",
            "\n",
            "    accuracy                           0.90      4000\n",
            "   macro avg       0.64      0.51      0.55      4000\n",
            "weighted avg       0.88      0.90      0.88      4000\n",
            "\n"
          ]
        }
      ]
    },
    {
      "cell_type": "markdown",
      "source": [
        "# Applying SMOTE to training data since the classes are not balanced"
      ],
      "metadata": {
        "id": "x1AkglWp_FWX"
      }
    },
    {
      "cell_type": "code",
      "source": [
        "vectorizer = CountVectorizer()\n",
        "X_vectorized = vectorizer.fit_transform(df['review'])\n",
        "X_train, X_test, y_train, y_test = train_test_split(X_vectorized, df['sentiment'], test_size=0.2, random_state=42)\n",
        "\n",
        "smote = SMOTE(random_state=42)\n",
        "X_train_smote, y_train_smote = smote.fit_resample(X_train, y_train)\n",
        "\n",
        "model.fit(X_train_smote, y_train_smote)\n",
        "\n",
        "y_pred = model.predict(X_test)\n",
        "print('Accuracy:', accuracy_score(y_test, y_pred))\n",
        "print('\\nClassification Report:\\n', classification_report(y_test, y_pred))"
      ],
      "metadata": {
        "id": "-X9Omowk8nkb"
      },
      "execution_count": null,
      "outputs": []
    },
    {
      "cell_type": "markdown",
      "source": [
        "#Applying Logistic regression"
      ],
      "metadata": {
        "id": "ofhDDlPB_bPy"
      }
    },
    {
      "cell_type": "code",
      "source": [
        "logreg_model = LogisticRegression(max_iter=1000)\n",
        "logreg_model.fit(X_train_smote, y_train_smote)\n",
        "\n",
        "y_pred_logreg = logreg_model.predict(X_test)\n",
        "print('\\nLogistic Regression Model Evaluation')\n",
        "print('Accuracy:', accuracy_score(y_test, y_pred_logreg))\n",
        "print('\\nClassification Report:\\n', classification_report(y_test, y_pred_logreg))"
      ],
      "metadata": {
        "colab": {
          "base_uri": "https://localhost:8080/"
        },
        "id": "nviolkWB8sgr",
        "outputId": "04c25fde-2ff3-40db-ce2c-46ba5a35b3ac"
      },
      "execution_count": 12,
      "outputs": [
        {
          "metadata": {
            "tags": null
          },
          "name": "stdout",
          "output_type": "stream",
          "text": [
            "\n",
            "Logistic Regression Model Evaluation\n",
            "Accuracy: 0.9015\n",
            "\n",
            "Classification Report:\n",
            "               precision    recall  f1-score   support\n",
            "\n",
            "          -1       0.61      0.64      0.63       230\n",
            "           0       0.30      0.40      0.34       227\n",
            "           1       0.97      0.95      0.96      3543\n",
            "\n",
            "    accuracy                           0.90      4000\n",
            "   macro avg       0.63      0.66      0.64      4000\n",
            "weighted avg       0.91      0.90      0.91      4000\n",
            "\n"
          ]
        }
      ]
    },
    {
      "cell_type": "code",
      "source": [
        "# User inputs the hotel name\n",
        "user_input = input(\"Enter hotel name: \").lower()"
      ],
      "metadata": {
        "colab": {
          "base_uri": "https://localhost:8080/"
        },
        "id": "0eDsGlov3-X7",
        "outputId": "c1b53626-26ef-4c81-9e39-4a520a580ff7"
      },
      "execution_count": 26,
      "outputs": [
        {
          "name": "stdout",
          "output_type": "stream",
          "text": [
            "Enter hotel name: The Whitney Hotel\n"
          ]
        }
      ]
    },
    {
      "cell_type": "code",
      "source": [
        "# Check if the hotel is in the dataset and calculate its average sentiment\n",
        "if user_input in df['name'].str.lower().values:\n",
        "    target_hotel_reviews = df[df['name'].str.lower() == user_input]\n",
        "    target_hotel_reviews['processed_reviews'] = target_hotel_reviews['reviews.text'].apply(preprocess_text)\n",
        "    target_vectorized_reviews = vectorizer.transform(target_hotel_reviews['processed_reviews'])\n",
        "    target_hotel_reviews['predicted_sentiment'] = logreg_model.predict(target_vectorized_reviews)\n",
        "    average_sentiment_target = target_hotel_reviews['predicted_sentiment'].mean()\n",
        "    print(\"Average Sentiment for\", user_input, \":\", average_sentiment_target)\n",
        "else:\n",
        "    print(\"Hotel not found in the dataset.\")\n",
        "    # Exit or continue to a different part of the program\n"
      ],
      "metadata": {
        "colab": {
          "base_uri": "https://localhost:8080/"
        },
        "id": "5t5wToqs5fsu",
        "outputId": "a66e8974-de22-45e4-e500-8690d6b75066"
      },
      "execution_count": 27,
      "outputs": [
        {
          "output_type": "stream",
          "name": "stdout",
          "text": [
            "Average Sentiment for the whitney hotel : 0.875\n"
          ]
        },
        {
          "output_type": "stream",
          "name": "stderr",
          "text": [
            "<ipython-input-27-151cd608c5c8>:4: SettingWithCopyWarning: \n",
            "A value is trying to be set on a copy of a slice from a DataFrame.\n",
            "Try using .loc[row_indexer,col_indexer] = value instead\n",
            "\n",
            "See the caveats in the documentation: https://pandas.pydata.org/pandas-docs/stable/user_guide/indexing.html#returning-a-view-versus-a-copy\n",
            "  target_hotel_reviews['processed_reviews'] = target_hotel_reviews['reviews.text'].apply(preprocess_text)\n",
            "<ipython-input-27-151cd608c5c8>:6: SettingWithCopyWarning: \n",
            "A value is trying to be set on a copy of a slice from a DataFrame.\n",
            "Try using .loc[row_indexer,col_indexer] = value instead\n",
            "\n",
            "See the caveats in the documentation: https://pandas.pydata.org/pandas-docs/stable/user_guide/indexing.html#returning-a-view-versus-a-copy\n",
            "  target_hotel_reviews['predicted_sentiment'] = logreg_model.predict(target_vectorized_reviews)\n"
          ]
        }
      ]
    },
    {
      "cell_type": "code",
      "source": [
        "# Function to preprocess text\n",
        "def preprocess_text(text):\n",
        "    # Add your preprocessing steps here\n",
        "    return text.lower()  # Example: convert to lowercase\n",
        "\n",
        "# User input for hotel name or city\n",
        "user_input = input(\"Enter hotel name or city: \").lower()\n",
        "\n",
        "# Check if the input is a hotel name\n",
        "if any(df['name'].str.lower() == user_input):\n",
        "    # Process for hotel name input\n",
        "    hotel_name_input = user_input\n",
        "\n",
        "    # Create a copy of the target hotel reviews to avoid SettingWithCopyWarning\n",
        "    target_hotel_reviews = df[df['name'].str.lower() == hotel_name_input].copy()\n",
        "\n",
        "    # Preprocess and vectorize reviews\n",
        "    target_hotel_reviews['processed_reviews'] = target_hotel_reviews['reviews.text'].apply(preprocess_text)\n",
        "    target_vectorized_reviews = vectorizer.transform(target_hotel_reviews['processed_reviews'])\n",
        "\n",
        "    # Predict sentiments\n",
        "    target_hotel_reviews['predicted_sentiment'] = logreg_model.predict(target_vectorized_reviews)\n",
        "\n",
        "    # Calculate the average sentiment\n",
        "    average_sentiment_target = target_hotel_reviews['predicted_sentiment'].mean()\n",
        "    print(\"Average Sentiment for\", hotel_name_input, \":\", average_sentiment_target)\n",
        "\n",
        "    # Assuming 'city' is a column in your DataFrame\n",
        "    # Find similar hotels in the same city and create a copy\n",
        "    target_city = df[df['name'].str.lower() == hotel_name_input]['city'].iloc[0]\n",
        "    similar_hotels = df[df['city'] == target_city].copy()\n",
        "\n",
        "    # Exclude the target hotel from similar hotels\n",
        "    similar_hotels = similar_hotels[similar_hotels['name'].str.lower() != hotel_name_input]\n",
        "\n",
        "    # Process and predict sentiments for similar hotels\n",
        "    similar_hotels['processed_reviews'] = similar_hotels['reviews.text'].apply(preprocess_text)\n",
        "    similar_hotels_vectorized = vectorizer.transform(similar_hotels['processed_reviews'])\n",
        "    similar_hotels['predicted_sentiment'] = logreg_model.predict(similar_hotels_vectorized)\n",
        "\n",
        "    # Calculate average sentiment for similar hotels\n",
        "    average_sentiments_similar = similar_hotels.groupby('name')['predicted_sentiment'].mean()\n",
        "\n",
        "    # Rank similar hotels based on average sentiment\n",
        "    ranked_similar_hotels = average_sentiments_similar.sort_values(ascending=False)\n",
        "\n",
        "    # Recommend top N similar hotels\n",
        "    top_n = 5\n",
        "    recommended_hotels = ranked_similar_hotels.head(top_n)\n",
        "    print(\"Top\", top_n, \"recommended hotels similar to\", hotel_name_input, \":\")\n",
        "    print(recommended_hotels)\n",
        "\n",
        "elif any(df['city'].str.lower() == user_input):\n",
        "    # Process for city input\n",
        "    city_input = user_input\n",
        "\n",
        "    # Find hotels in the entered city and create a copy to avoid SettingWithCopyWarning\n",
        "    similar_hotels = df[df['city'].str.lower() == city_input].copy()\n",
        "\n",
        "    # Process and predict sentiments for hotels in the city\n",
        "    similar_hotels['processed_reviews'] = similar_hotels['reviews.text'].apply(preprocess_text)\n",
        "    similar_hotels_vectorized = vectorizer.transform(similar_hotels['processed_reviews'])\n",
        "    similar_hotels['predicted_sentiment'] = logreg_model.predict(similar_hotels_vectorized)\n",
        "\n",
        "    # Calculate average sentiment for hotels in the city\n",
        "    average_sentiments_city = similar_hotels.groupby('name')['predicted_sentiment'].mean()\n",
        "\n",
        "    # Rank hotels based on average sentiment\n",
        "    ranked_hotels_city = average_sentiments_city.sort_values(ascending=False)\n",
        "\n",
        "    # Recommend top N hotels in the city\n",
        "    top_n = 5\n",
        "    recommended_hotels = ranked_hotels_city.head(top_n)\n",
        "    print(\"Top\", top_n, \"recommended hotels in\", city_input.title(), \":\")\n",
        "    print(recommended_hotels)\n",
        "\n",
        "else:\n",
        "    print(\"No matching hotels or cities found in the dataset.\")\n"
      ],
      "metadata": {
        "colab": {
          "base_uri": "https://localhost:8080/"
        },
        "id": "n4snwcty5fgi",
        "outputId": "1c046bcc-6534-4945-ef66-791dec2d85f8"
      },
      "execution_count": 36,
      "outputs": [
        {
          "output_type": "stream",
          "name": "stdout",
          "text": [
            "Enter hotel name or city: San Francisco\n",
            "Top 5 recommended hotels in San Francisco :\n",
            "name\n",
            "The San Remo Hotel          1.0\n",
            "The Orchard Garden Hotel    1.0\n",
            "Columbus Motor Inn          1.0\n",
            "The Herbert Hotel           1.0\n",
            "Fitzgerald Hotel            1.0\n",
            "Name: predicted_sentiment, dtype: float64\n"
          ]
        }
      ]
    },
    {
      "cell_type": "code",
      "source": [
        "# Function to preprocess text\n",
        "def preprocess_text(text):\n",
        "    # Add your preprocessing steps here\n",
        "    return text.lower()  # Example: convert to lowercase\n",
        "\n",
        "# User input for hotel name or city\n",
        "user_input = input(\"Enter hotel name or city: \").lower()\n",
        "\n",
        "# Check if the input is a hotel name\n",
        "if any(df['name'].str.lower() == user_input):\n",
        "    # Process for hotel name input\n",
        "    hotel_name_input = user_input\n",
        "\n",
        "    # Create a copy of the target hotel reviews to avoid SettingWithCopyWarning\n",
        "    target_hotel_reviews = df[df['name'].str.lower() == hotel_name_input].copy()\n",
        "\n",
        "    # Preprocess and vectorize reviews\n",
        "    target_hotel_reviews['processed_reviews'] = target_hotel_reviews['reviews.text'].apply(preprocess_text)\n",
        "    target_vectorized_reviews = vectorizer.transform(target_hotel_reviews['processed_reviews'])\n",
        "\n",
        "    # Predict sentiments\n",
        "    target_hotel_reviews['predicted_sentiment'] = logreg_model.predict(target_vectorized_reviews)\n",
        "\n",
        "    # Calculate the average sentiment\n",
        "    average_sentiment_target = target_hotel_reviews['predicted_sentiment'].mean()\n",
        "    print(\"Average Sentiment for\", hotel_name_input, \":\", average_sentiment_target)\n",
        "\n",
        "    # Assuming 'city' is a column in your DataFrame\n",
        "    # Find similar hotels in the same city and create a copy\n",
        "    target_city = df[df['name'].str.lower() == hotel_name_input]['city'].iloc[0]\n",
        "    similar_hotels = df[df['city'] == target_city].copy()\n",
        "\n",
        "    # Exclude the target hotel from similar hotels\n",
        "    similar_hotels = similar_hotels[similar_hotels['name'].str.lower() != hotel_name_input]\n",
        "\n",
        "    # Process and predict sentiments for similar hotels\n",
        "    similar_hotels['processed_reviews'] = similar_hotels['reviews.text'].apply(preprocess_text)\n",
        "    similar_hotels_vectorized = vectorizer.transform(similar_hotels['processed_reviews'])\n",
        "    similar_hotels['predicted_sentiment'] = logreg_model.predict(similar_hotels_vectorized)\n",
        "\n",
        "    # Calculate average sentiment for similar hotels\n",
        "    average_sentiments_similar = similar_hotels.groupby('name')['predicted_sentiment'].mean()\n",
        "\n",
        "    # Rank similar hotels based on average sentiment\n",
        "    ranked_similar_hotels = average_sentiments_similar.sort_values(ascending=False)\n",
        "\n",
        "    # Recommend top N similar hotels\n",
        "    top_n = 5\n",
        "    recommended_hotels = ranked_similar_hotels.head(top_n)\n",
        "    print(\"Top\", top_n, \"recommended hotels similar to\", hotel_name_input, \":\")\n",
        "    print(recommended_hotels)\n",
        "\n",
        "elif any(df['city'].str.lower() == user_input):\n",
        "    # Process for city input\n",
        "    city_input = user_input\n",
        "\n",
        "    # Find hotels in the entered city and create a copy to avoid SettingWithCopyWarning\n",
        "    similar_hotels = df[df['city'].str.lower() == city_input].copy()\n",
        "\n",
        "    # Process and predict sentiments for hotels in the city\n",
        "    similar_hotels['processed_reviews'] = similar_hotels['reviews.text'].apply(preprocess_text)\n",
        "    similar_hotels_vectorized = vectorizer.transform(similar_hotels['processed_reviews'])\n",
        "    similar_hotels['predicted_sentiment'] = logreg_model.predict(similar_hotels_vectorized)\n",
        "\n",
        "    # Calculate average sentiment for hotels in the city\n",
        "    average_sentiments_city = similar_hotels.groupby('name')['predicted_sentiment'].mean()\n",
        "\n",
        "    # Rank hotels based on average sentiment\n",
        "    ranked_hotels_city = average_sentiments_city.sort_values(ascending=False)\n",
        "\n",
        "    # Recommend top N hotels in the city\n",
        "    top_n = 5\n",
        "    recommended_hotels = ranked_hotels_city.head(top_n)\n",
        "    print(\"Top\", top_n, \"recommended hotels in\", city_input.title(), \":\")\n",
        "    print(recommended_hotels)\n",
        "\n",
        "else:\n",
        "    print(\"No matching hotels or cities found in the dataset.\")\n"
      ],
      "metadata": {
        "colab": {
          "base_uri": "https://localhost:8080/"
        },
        "id": "-7FG1fXy5fZr",
        "outputId": "9beb1ec4-4b76-496b-f50b-1ebacdc4ca4f"
      },
      "execution_count": 35,
      "outputs": [
        {
          "output_type": "stream",
          "name": "stdout",
          "text": [
            "Enter hotel name or city: The Whitney Hotel\n",
            "Average Sentiment for the whitney hotel : 0.875\n",
            "Top 5 recommended hotels similar to the whitney hotel :\n",
            "name\n",
            "Ace Hotel New Orleans                                 1.0\n",
            "Henry Howard Hotel                                    1.0\n",
            "The Roosevelt New Orleans, A Waldorf Astoria Hotel    1.0\n",
            "The Pontchartrain Hotel                               1.0\n",
            "The Parisian Courtyard Inn                            1.0\n",
            "Name: predicted_sentiment, dtype: float64\n"
          ]
        }
      ]
    },
    {
      "cell_type": "code",
      "source": [
        "import pickle\n",
        "\n",
        "# Save the Logistic Regression model\n",
        "with open('logreg_model.pkl', 'wb') as file:\n",
        "    pickle.dump(logreg_model, file)\n",
        "\n",
        "# Save the vectorizer\n",
        "with open('vectorizer.pkl', 'wb') as file:\n",
        "    pickle.dump(vectorizer, file)\n"
      ],
      "metadata": {
        "id": "utjKx1VYAm3E"
      },
      "execution_count": 37,
      "outputs": []
    }
  ]
}